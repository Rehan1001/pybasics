{
 "cells": [
  {
   "cell_type": "markdown",
   "metadata": {},
   "source": [
    "# Day 7 #\n",
    "---\n",
    "- Numpy Intro\n",
    "- list comprehension\n",
    "- set"
   ]
  },
  {
   "cell_type": "code",
   "execution_count": 1,
   "metadata": {
    "collapsed": true
   },
   "outputs": [],
   "source": [
    "import numpy as np"
   ]
  },
  {
   "cell_type": "code",
   "execution_count": 2,
   "metadata": {
    "collapsed": false
   },
   "outputs": [
    {
     "data": {
      "text/plain": [
       "-0.98803162409286183"
      ]
     },
     "execution_count": 2,
     "metadata": {},
     "output_type": "execute_result"
    }
   ],
   "source": [
    "np.sin(30)"
   ]
  },
  {
   "cell_type": "code",
   "execution_count": 4,
   "metadata": {
    "collapsed": false
   },
   "outputs": [
    {
     "data": {
      "text/plain": [
       "[0.0,\n",
       " 0.8414709848078965,\n",
       " 0.90929742682568171,\n",
       " 0.14112000805986721,\n",
       " -0.7568024953079282,\n",
       " -0.95892427466313845,\n",
       " -0.27941549819892586,\n",
       " 0.65698659871878906,\n",
       " 0.98935824662338179,\n",
       " 0.41211848524175659,\n",
       " -0.54402111088936977,\n",
       " -0.99999020655070348,\n",
       " -0.53657291800043494,\n",
       " 0.42016703682664092,\n",
       " 0.99060735569487035,\n",
       " 0.65028784015711683,\n",
       " -0.2879033166650653,\n",
       " -0.96139749187955681,\n",
       " -0.75098724677167616,\n",
       " 0.14987720966295234,\n",
       " 0.91294525072762767,\n",
       " 0.83665563853605607,\n",
       " -0.0088513092904038762,\n",
       " -0.84622040417517064,\n",
       " -0.90557836200662378,\n",
       " -0.13235175009777303,\n",
       " 0.76255845047960269,\n",
       " 0.95637592840450303,\n",
       " 0.27090578830786904,\n",
       " -0.66363388421296754,\n",
       " -0.98803162409286183,\n",
       " -0.40403764532306502,\n",
       " 0.55142668124169059,\n",
       " 0.99991186010726718,\n",
       " 0.52908268612002385,\n",
       " -0.42818266949615102,\n",
       " -0.99177885344311578,\n",
       " -0.6435381333569995,\n",
       " 0.29636857870938532,\n",
       " 0.96379538628408779,\n",
       " 0.74511316047934883,\n",
       " -0.15862266880470899,\n",
       " -0.91652154791563378,\n",
       " -0.8317747426285983,\n",
       " 0.017701925105413577,\n",
       " 0.85090352453411844,\n",
       " 0.90178834764880922,\n",
       " 0.123573122745224,\n",
       " -0.76825466132366682,\n",
       " -0.95375265275947185,\n",
       " -0.26237485370392877,\n",
       " 0.67022917584337471,\n",
       " 0.98662759204048534,\n",
       " 0.39592515018183416,\n",
       " -0.55878904885161629,\n",
       " -0.99975517335861985,\n",
       " -0.52155100208691185,\n",
       " 0.43616475524782494,\n",
       " 0.99287264808453712,\n",
       " 0.63673800713913786,\n",
       " -0.30481062110221668,\n",
       " -0.96611777000839294,\n",
       " -0.73918069664922281,\n",
       " 0.16735570030280691,\n",
       " 0.92002603819679074,\n",
       " 0.82682867949010341,\n",
       " -0.026551154023966794,\n",
       " -0.85551997897532228,\n",
       " -0.8979276806892913,\n",
       " -0.11478481378318722,\n",
       " 0.77389068155788909,\n",
       " 0.95105465325437466,\n",
       " 0.25382336276203626,\n",
       " -0.67677195688730762,\n",
       " -0.98514626046824738,\n",
       " -0.38778163540943045,\n",
       " 0.56610763689818033,\n",
       " 0.99952015858073129,\n",
       " 0.51397845598753522,\n",
       " -0.44411266870750837,\n",
       " -0.99388865392337522,\n",
       " -0.62988799427445386,\n",
       " 0.31322878243308516,\n",
       " 0.96836446110018537,\n",
       " 0.73319032007329221,\n",
       " -0.17607561994858709,\n",
       " -0.92345844700405977,\n",
       " -0.82181783663082253,\n",
       " 0.03539830273366068,\n",
       " 0.86006940581245317,\n",
       " 0.89399666360055785]"
      ]
     },
     "execution_count": 4,
     "metadata": {},
     "output_type": "execute_result"
    }
   ],
   "source": [
    "calculated = []\n",
    "for deg in range (0, 91):\n",
    "    calculated.append(np.sin(deg))\n",
    "calculated"
   ]
  },
  {
   "cell_type": "code",
   "execution_count": 8,
   "metadata": {
    "collapsed": false
   },
   "outputs": [
    {
     "data": {
      "text/plain": [
       "[0.0,\n",
       " 0.8414709848078965,\n",
       " 0.90929742682568171,\n",
       " 0.14112000805986721,\n",
       " -0.7568024953079282,\n",
       " -0.95892427466313845,\n",
       " -0.27941549819892586,\n",
       " 0.65698659871878906,\n",
       " 0.98935824662338179,\n",
       " 0.41211848524175659,\n",
       " -0.54402111088936977,\n",
       " -0.99999020655070348,\n",
       " -0.53657291800043494,\n",
       " 0.42016703682664092,\n",
       " 0.99060735569487035,\n",
       " 0.65028784015711683,\n",
       " -0.2879033166650653,\n",
       " -0.96139749187955681,\n",
       " -0.75098724677167616,\n",
       " 0.14987720966295234,\n",
       " 0.91294525072762767,\n",
       " 0.83665563853605607,\n",
       " -0.0088513092904038762,\n",
       " -0.84622040417517064,\n",
       " -0.90557836200662378,\n",
       " -0.13235175009777303,\n",
       " 0.76255845047960269,\n",
       " 0.95637592840450303,\n",
       " 0.27090578830786904,\n",
       " -0.66363388421296754,\n",
       " -0.98803162409286183,\n",
       " -0.40403764532306502,\n",
       " 0.55142668124169059,\n",
       " 0.99991186010726718,\n",
       " 0.52908268612002385,\n",
       " -0.42818266949615102,\n",
       " -0.99177885344311578,\n",
       " -0.6435381333569995,\n",
       " 0.29636857870938532,\n",
       " 0.96379538628408779,\n",
       " 0.74511316047934883,\n",
       " -0.15862266880470899,\n",
       " -0.91652154791563378,\n",
       " -0.8317747426285983,\n",
       " 0.017701925105413577,\n",
       " 0.85090352453411844,\n",
       " 0.90178834764880922,\n",
       " 0.123573122745224,\n",
       " -0.76825466132366682,\n",
       " -0.95375265275947185,\n",
       " -0.26237485370392877,\n",
       " 0.67022917584337471,\n",
       " 0.98662759204048534,\n",
       " 0.39592515018183416,\n",
       " -0.55878904885161629,\n",
       " -0.99975517335861985,\n",
       " -0.52155100208691185,\n",
       " 0.43616475524782494,\n",
       " 0.99287264808453712,\n",
       " 0.63673800713913786,\n",
       " -0.30481062110221668,\n",
       " -0.96611777000839294,\n",
       " -0.73918069664922281,\n",
       " 0.16735570030280691,\n",
       " 0.92002603819679074,\n",
       " 0.82682867949010341,\n",
       " -0.026551154023966794,\n",
       " -0.85551997897532228,\n",
       " -0.8979276806892913,\n",
       " -0.11478481378318722,\n",
       " 0.77389068155788909,\n",
       " 0.95105465325437466,\n",
       " 0.25382336276203626,\n",
       " -0.67677195688730762,\n",
       " -0.98514626046824738,\n",
       " -0.38778163540943045,\n",
       " 0.56610763689818033,\n",
       " 0.99952015858073129,\n",
       " 0.51397845598753522,\n",
       " -0.44411266870750837,\n",
       " -0.99388865392337522,\n",
       " -0.62988799427445386,\n",
       " 0.31322878243308516,\n",
       " 0.96836446110018537,\n",
       " 0.73319032007329221,\n",
       " -0.17607561994858709,\n",
       " -0.92345844700405977,\n",
       " -0.82181783663082253,\n",
       " 0.03539830273366068,\n",
       " 0.86006940581245317,\n",
       " 0.89399666360055785]"
      ]
     },
     "execution_count": 8,
     "metadata": {},
     "output_type": "execute_result"
    }
   ],
   "source": [
    "calculated2 = [np.sin(deg) for deg in range(0 , 91)]\n",
    "calculated2"
   ]
  },
  {
   "cell_type": "code",
   "execution_count": 9,
   "metadata": {
    "collapsed": false
   },
   "outputs": [
    {
     "data": {
      "text/plain": [
       "array([ 0.        ,  0.84147098,  0.90929743,  0.14112001, -0.7568025 ,\n",
       "       -0.95892427, -0.2794155 ,  0.6569866 ,  0.98935825,  0.41211849,\n",
       "       -0.54402111, -0.99999021, -0.53657292,  0.42016704,  0.99060736,\n",
       "        0.65028784, -0.28790332, -0.96139749, -0.75098725,  0.14987721,\n",
       "        0.91294525,  0.83665564, -0.00885131, -0.8462204 , -0.90557836,\n",
       "       -0.13235175,  0.76255845,  0.95637593,  0.27090579, -0.66363388,\n",
       "       -0.98803162, -0.40403765,  0.55142668,  0.99991186,  0.52908269,\n",
       "       -0.42818267, -0.99177885, -0.64353813,  0.29636858,  0.96379539,\n",
       "        0.74511316, -0.15862267, -0.91652155, -0.83177474,  0.01770193,\n",
       "        0.85090352,  0.90178835,  0.12357312, -0.76825466, -0.95375265,\n",
       "       -0.26237485,  0.67022918,  0.98662759,  0.39592515, -0.55878905,\n",
       "       -0.99975517, -0.521551  ,  0.43616476,  0.99287265,  0.63673801,\n",
       "       -0.30481062, -0.96611777, -0.7391807 ,  0.1673557 ,  0.92002604,\n",
       "        0.82682868, -0.02655115, -0.85551998, -0.89792768, -0.11478481,\n",
       "        0.77389068,  0.95105465,  0.25382336, -0.67677196, -0.98514626,\n",
       "       -0.38778164,  0.56610764,  0.99952016,  0.51397846, -0.44411267,\n",
       "       -0.99388865, -0.62988799,  0.31322878,  0.96836446,  0.73319032,\n",
       "       -0.17607562, -0.92345845, -0.82181784,  0.0353983 ,  0.86006941,\n",
       "        0.89399666])"
      ]
     },
     "execution_count": 9,
     "metadata": {},
     "output_type": "execute_result"
    }
   ],
   "source": [
    "np.sin(range(0, 91))"
   ]
  },
  {
   "cell_type": "markdown",
   "metadata": {},
   "source": [
    "Broadcast"
   ]
  },
  {
   "cell_type": "code",
   "execution_count": 10,
   "metadata": {
    "collapsed": false,
    "scrolled": true
   },
   "outputs": [
    {
     "data": {
      "text/plain": [
       "array([ 0.        ,  0.84147098,  0.90929743,  0.14112001, -0.7568025 ,\n",
       "       -0.95892427, -0.2794155 ,  0.6569866 ,  0.98935825,  0.41211849,\n",
       "       -0.54402111, -0.99999021, -0.53657292,  0.42016704,  0.99060736,\n",
       "        0.65028784, -0.28790332, -0.96139749, -0.75098725,  0.14987721,\n",
       "        0.91294525,  0.83665564, -0.00885131, -0.8462204 , -0.90557836,\n",
       "       -0.13235175,  0.76255845,  0.95637593,  0.27090579, -0.66363388,\n",
       "       -0.98803162, -0.40403765,  0.55142668,  0.99991186,  0.52908269,\n",
       "       -0.42818267, -0.99177885, -0.64353813,  0.29636858,  0.96379539,\n",
       "        0.74511316, -0.15862267, -0.91652155, -0.83177474,  0.01770193,\n",
       "        0.85090352,  0.90178835,  0.12357312, -0.76825466, -0.95375265,\n",
       "       -0.26237485,  0.67022918,  0.98662759,  0.39592515, -0.55878905,\n",
       "       -0.99975517, -0.521551  ,  0.43616476,  0.99287265,  0.63673801,\n",
       "       -0.30481062, -0.96611777, -0.7391807 ,  0.1673557 ,  0.92002604,\n",
       "        0.82682868, -0.02655115, -0.85551998, -0.89792768, -0.11478481,\n",
       "        0.77389068,  0.95105465,  0.25382336, -0.67677196, -0.98514626,\n",
       "       -0.38778164,  0.56610764,  0.99952016,  0.51397846, -0.44411267,\n",
       "       -0.99388865, -0.62988799,  0.31322878,  0.96836446,  0.73319032,\n",
       "       -0.17607562, -0.92345845, -0.82181784,  0.0353983 ,  0.86006941,\n",
       "        0.89399666])"
      ]
     },
     "execution_count": 10,
     "metadata": {},
     "output_type": "execute_result"
    }
   ],
   "source": [
    "np.sin([deg for deg in range(0, 91)])"
   ]
  },
  {
   "cell_type": "code",
   "execution_count": 11,
   "metadata": {
    "collapsed": false
   },
   "outputs": [
    {
     "name": "stdout",
     "output_type": "stream",
     "text": [
      "The slowest run took 4.02 times longer than the fastest. This could mean that an intermediate result is being cached.\n",
      "10000 loops, best of 3: 176 µs per loop\n"
     ]
    }
   ],
   "source": [
    "%timeit [np.sin(deg) for deg in range(0, 91)]"
   ]
  },
  {
   "cell_type": "code",
   "execution_count": 12,
   "metadata": {
    "collapsed": true
   },
   "outputs": [],
   "source": [
    "paragraph = \"\"\"\n",
    "he principal mass of materials for this Biography was placed in my hands last summer by the Rev. W. F. Tucker Hamilton, nephew of Charlotte Maria Tucker (A. L. O. E.), and since then many other relatives or friends, both in England and in India, have contributed their share of help, either in the way of written recollections or of correspondence. A paucity of materials exists as to the early part of the life; but in later years the difficulty is of a precisely opposite description, arising from a superabundance of details. Hundreds of letters, more or less interesting in themselves, have had to be put ruthlessly aside, to make room for others of greater interest. From first to last the long series between Charlotte Tucker and her own especial sister-friend, Mrs. Hamilton, takes precedence of all other letters in point of freedom, naturalness, and simplicity. The perfect trust and unshadowed devotion which subsisted between these two form a rare and beautiful picture\"\"\""
   ]
  },
  {
   "cell_type": "code",
   "execution_count": 37,
   "metadata": {
    "collapsed": false
   },
   "outputs": [],
   "source": [
    "cleaned_text = paragraph.lower().replace(',' , '').\\\n",
    "    replace('.' , '').replace('\\n' , ' ').strip()"
   ]
  },
  {
   "cell_type": "code",
   "execution_count": 28,
   "metadata": {
    "collapsed": false
   },
   "outputs": [
    {
     "data": {
      "text/plain": [
       "{' ',\n",
       " '(',\n",
       " ')',\n",
       " '-',\n",
       " ';',\n",
       " 'a',\n",
       " 'b',\n",
       " 'c',\n",
       " 'd',\n",
       " 'e',\n",
       " 'f',\n",
       " 'g',\n",
       " 'h',\n",
       " 'i',\n",
       " 'k',\n",
       " 'l',\n",
       " 'm',\n",
       " 'n',\n",
       " 'o',\n",
       " 'p',\n",
       " 'r',\n",
       " 's',\n",
       " 't',\n",
       " 'u',\n",
       " 'v',\n",
       " 'w',\n",
       " 'x',\n",
       " 'y'}"
      ]
     },
     "execution_count": 28,
     "metadata": {},
     "output_type": "execute_result"
    }
   ],
   "source": [
    "set(cleaned_text)"
   ]
  },
  {
   "cell_type": "code",
   "execution_count": 29,
   "metadata": {
    "collapsed": false
   },
   "outputs": [
    {
     "data": {
      "text/plain": [
       "['he',\n",
       " 'principal',\n",
       " 'mass',\n",
       " 'of',\n",
       " 'materials',\n",
       " 'for',\n",
       " 'this',\n",
       " 'biography',\n",
       " 'was',\n",
       " 'placed',\n",
       " 'in',\n",
       " 'my',\n",
       " 'hands',\n",
       " 'last',\n",
       " 'summer',\n",
       " 'by',\n",
       " 'the',\n",
       " 'rev',\n",
       " 'w',\n",
       " 'f',\n",
       " 'tucker',\n",
       " 'hamilton',\n",
       " 'nephew',\n",
       " 'of',\n",
       " 'charlotte',\n",
       " 'maria',\n",
       " 'tucker',\n",
       " '(a',\n",
       " 'l',\n",
       " 'o',\n",
       " 'e)',\n",
       " 'and',\n",
       " 'since',\n",
       " 'then',\n",
       " 'many',\n",
       " 'other',\n",
       " 'relatives',\n",
       " 'or',\n",
       " 'friends',\n",
       " 'both',\n",
       " 'in',\n",
       " 'england',\n",
       " 'and',\n",
       " 'in',\n",
       " 'india',\n",
       " 'have',\n",
       " 'contributed',\n",
       " 'their',\n",
       " 'share',\n",
       " 'of',\n",
       " 'help',\n",
       " 'either',\n",
       " 'in',\n",
       " 'the',\n",
       " 'way',\n",
       " 'of',\n",
       " 'written',\n",
       " 'recollections',\n",
       " 'or',\n",
       " 'of',\n",
       " 'correspondence',\n",
       " 'a',\n",
       " 'paucity',\n",
       " 'of',\n",
       " 'materials',\n",
       " 'exists',\n",
       " 'as',\n",
       " 'to',\n",
       " 'the',\n",
       " 'early',\n",
       " 'part',\n",
       " 'of',\n",
       " 'the',\n",
       " 'life;',\n",
       " 'but',\n",
       " 'in',\n",
       " 'later',\n",
       " 'years',\n",
       " 'the',\n",
       " 'difficulty',\n",
       " 'is',\n",
       " 'of',\n",
       " 'a',\n",
       " 'precisely',\n",
       " 'opposite',\n",
       " 'description',\n",
       " 'arising',\n",
       " 'from',\n",
       " 'a',\n",
       " 'superabundance',\n",
       " 'of',\n",
       " 'details',\n",
       " 'hundreds',\n",
       " 'of',\n",
       " 'letters',\n",
       " 'more',\n",
       " 'or',\n",
       " 'less',\n",
       " 'interesting',\n",
       " 'in',\n",
       " 'themselves',\n",
       " 'have',\n",
       " 'had',\n",
       " 'to',\n",
       " 'be',\n",
       " 'put',\n",
       " 'ruthlessly',\n",
       " 'aside',\n",
       " 'to',\n",
       " 'make',\n",
       " 'room',\n",
       " 'for',\n",
       " 'others',\n",
       " 'of',\n",
       " 'greater',\n",
       " 'interest',\n",
       " 'from',\n",
       " 'first',\n",
       " 'to',\n",
       " 'last',\n",
       " 'the',\n",
       " 'long',\n",
       " 'series',\n",
       " 'between',\n",
       " 'charlotte',\n",
       " 'tucker',\n",
       " 'and',\n",
       " 'her',\n",
       " 'own',\n",
       " 'especial',\n",
       " 'sister-friend',\n",
       " 'mrs',\n",
       " 'hamilton',\n",
       " 'takes',\n",
       " 'precedence',\n",
       " 'of',\n",
       " 'all',\n",
       " 'other',\n",
       " 'letters',\n",
       " 'in',\n",
       " 'point',\n",
       " 'of',\n",
       " 'freedom',\n",
       " 'naturalness',\n",
       " 'and',\n",
       " 'simplicity',\n",
       " 'the',\n",
       " 'perfect',\n",
       " 'trust',\n",
       " 'and',\n",
       " 'unshadowed',\n",
       " 'devotion',\n",
       " 'which',\n",
       " 'subsisted',\n",
       " 'between',\n",
       " 'these',\n",
       " 'two',\n",
       " 'form',\n",
       " 'a',\n",
       " 'rare',\n",
       " 'and',\n",
       " 'beautiful',\n",
       " 'picture']"
      ]
     },
     "execution_count": 29,
     "metadata": {},
     "output_type": "execute_result"
    }
   ],
   "source": [
    "cleaned_text.split()"
   ]
  },
  {
   "cell_type": "code",
   "execution_count": 31,
   "metadata": {
    "collapsed": false
   },
   "outputs": [
    {
     "data": {
      "text/plain": [
       "{'(a',\n",
       " 'a',\n",
       " 'all',\n",
       " 'and',\n",
       " 'arising',\n",
       " 'as',\n",
       " 'aside',\n",
       " 'be',\n",
       " 'beautiful',\n",
       " 'between',\n",
       " 'biography',\n",
       " 'both',\n",
       " 'but',\n",
       " 'by',\n",
       " 'charlotte',\n",
       " 'contributed',\n",
       " 'correspondence',\n",
       " 'description',\n",
       " 'details',\n",
       " 'devotion',\n",
       " 'difficulty',\n",
       " 'e)',\n",
       " 'early',\n",
       " 'either',\n",
       " 'england',\n",
       " 'especial',\n",
       " 'exists',\n",
       " 'f',\n",
       " 'first',\n",
       " 'for',\n",
       " 'form',\n",
       " 'freedom',\n",
       " 'friends',\n",
       " 'from',\n",
       " 'greater',\n",
       " 'had',\n",
       " 'hamilton',\n",
       " 'hands',\n",
       " 'have',\n",
       " 'he',\n",
       " 'help',\n",
       " 'her',\n",
       " 'hundreds',\n",
       " 'in',\n",
       " 'india',\n",
       " 'interest',\n",
       " 'interesting',\n",
       " 'is',\n",
       " 'l',\n",
       " 'last',\n",
       " 'later',\n",
       " 'less',\n",
       " 'letters',\n",
       " 'life;',\n",
       " 'long',\n",
       " 'make',\n",
       " 'many',\n",
       " 'maria',\n",
       " 'mass',\n",
       " 'materials',\n",
       " 'more',\n",
       " 'mrs',\n",
       " 'my',\n",
       " 'naturalness',\n",
       " 'nephew',\n",
       " 'o',\n",
       " 'of',\n",
       " 'opposite',\n",
       " 'or',\n",
       " 'other',\n",
       " 'others',\n",
       " 'own',\n",
       " 'part',\n",
       " 'paucity',\n",
       " 'perfect',\n",
       " 'picture',\n",
       " 'placed',\n",
       " 'point',\n",
       " 'precedence',\n",
       " 'precisely',\n",
       " 'principal',\n",
       " 'put',\n",
       " 'rare',\n",
       " 'recollections',\n",
       " 'relatives',\n",
       " 'rev',\n",
       " 'room',\n",
       " 'ruthlessly',\n",
       " 'series',\n",
       " 'share',\n",
       " 'simplicity',\n",
       " 'since',\n",
       " 'sister-friend',\n",
       " 'subsisted',\n",
       " 'summer',\n",
       " 'superabundance',\n",
       " 'takes',\n",
       " 'the',\n",
       " 'their',\n",
       " 'themselves',\n",
       " 'then',\n",
       " 'these',\n",
       " 'this',\n",
       " 'to',\n",
       " 'trust',\n",
       " 'tucker',\n",
       " 'two',\n",
       " 'unshadowed',\n",
       " 'w',\n",
       " 'was',\n",
       " 'way',\n",
       " 'which',\n",
       " 'written',\n",
       " 'years'}"
      ]
     },
     "execution_count": 31,
     "metadata": {},
     "output_type": "execute_result"
    }
   ],
   "source": [
    "set(cleaned_text.split())"
   ]
  },
  {
   "cell_type": "code",
   "execution_count": 34,
   "metadata": {
    "collapsed": true
   },
   "outputs": [],
   "source": [
    "word_list = cleaned_text.split()"
   ]
  },
  {
   "cell_type": "code",
   "execution_count": 35,
   "metadata": {
    "collapsed": false
   },
   "outputs": [],
   "source": [
    "word_set=set(word_list)"
   ]
  },
  {
   "cell_type": "code",
   "execution_count": 36,
   "metadata": {
    "collapsed": false
   },
   "outputs": [
    {
     "data": {
      "text/plain": [
       "{'(a': 1,\n",
       " 'a': 4,\n",
       " 'all': 1,\n",
       " 'and': 6,\n",
       " 'arising': 1,\n",
       " 'as': 1,\n",
       " 'aside': 1,\n",
       " 'be': 1,\n",
       " 'beautiful': 1,\n",
       " 'between': 2,\n",
       " 'biography': 1,\n",
       " 'both': 1,\n",
       " 'but': 1,\n",
       " 'by': 1,\n",
       " 'charlotte': 2,\n",
       " 'contributed': 1,\n",
       " 'correspondence': 1,\n",
       " 'description': 1,\n",
       " 'details': 1,\n",
       " 'devotion': 1,\n",
       " 'difficulty': 1,\n",
       " 'e)': 1,\n",
       " 'early': 1,\n",
       " 'either': 1,\n",
       " 'england': 1,\n",
       " 'especial': 1,\n",
       " 'exists': 1,\n",
       " 'f': 1,\n",
       " 'first': 1,\n",
       " 'for': 2,\n",
       " 'form': 1,\n",
       " 'freedom': 1,\n",
       " 'friends': 1,\n",
       " 'from': 2,\n",
       " 'greater': 1,\n",
       " 'had': 1,\n",
       " 'hamilton': 2,\n",
       " 'hands': 1,\n",
       " 'have': 2,\n",
       " 'he': 1,\n",
       " 'help': 1,\n",
       " 'her': 1,\n",
       " 'hundreds': 1,\n",
       " 'in': 7,\n",
       " 'india': 1,\n",
       " 'interest': 1,\n",
       " 'interesting': 1,\n",
       " 'is': 1,\n",
       " 'l': 1,\n",
       " 'last': 2,\n",
       " 'later': 1,\n",
       " 'less': 1,\n",
       " 'letters': 2,\n",
       " 'life;': 1,\n",
       " 'long': 1,\n",
       " 'make': 1,\n",
       " 'many': 1,\n",
       " 'maria': 1,\n",
       " 'mass': 1,\n",
       " 'materials': 2,\n",
       " 'more': 1,\n",
       " 'mrs': 1,\n",
       " 'my': 1,\n",
       " 'naturalness': 1,\n",
       " 'nephew': 1,\n",
       " 'o': 1,\n",
       " 'of': 13,\n",
       " 'opposite': 1,\n",
       " 'or': 3,\n",
       " 'other': 2,\n",
       " 'others': 1,\n",
       " 'own': 1,\n",
       " 'part': 1,\n",
       " 'paucity': 1,\n",
       " 'perfect': 1,\n",
       " 'picture': 1,\n",
       " 'placed': 1,\n",
       " 'point': 1,\n",
       " 'precedence': 1,\n",
       " 'precisely': 1,\n",
       " 'principal': 1,\n",
       " 'put': 1,\n",
       " 'rare': 1,\n",
       " 'recollections': 1,\n",
       " 'relatives': 1,\n",
       " 'rev': 1,\n",
       " 'room': 1,\n",
       " 'ruthlessly': 1,\n",
       " 'series': 1,\n",
       " 'share': 1,\n",
       " 'simplicity': 1,\n",
       " 'since': 1,\n",
       " 'sister-friend': 1,\n",
       " 'subsisted': 1,\n",
       " 'summer': 1,\n",
       " 'superabundance': 1,\n",
       " 'takes': 1,\n",
       " 'the': 7,\n",
       " 'their': 1,\n",
       " 'themselves': 1,\n",
       " 'then': 1,\n",
       " 'these': 1,\n",
       " 'this': 1,\n",
       " 'to': 4,\n",
       " 'trust': 1,\n",
       " 'tucker': 3,\n",
       " 'two': 1,\n",
       " 'unshadowed': 1,\n",
       " 'w': 1,\n",
       " 'was': 1,\n",
       " 'way': 1,\n",
       " 'which': 1,\n",
       " 'written': 1,\n",
       " 'years': 1}"
      ]
     },
     "execution_count": 36,
     "metadata": {},
     "output_type": "execute_result"
    }
   ],
   "source": [
    "{word: word_list.count(word) for word in word_set}"
   ]
  },
  {
   "cell_type": "code",
   "execution_count": 38,
   "metadata": {
    "collapsed": false
   },
   "outputs": [
    {
     "data": {
      "text/plain": [
       "'he principal mass of materials for this biography was placed in my hands last summer by the rev w f tucker hamilton nephew of charlotte maria tucker (a l o e) and since then many other relatives or friends both in england and in india have contributed their share of help either in the way of written recollections or of correspondence a paucity of materials exists as to the early part of the life; but in later years the difficulty is of a precisely opposite description arising from a superabundance of details hundreds of letters more or less interesting in themselves have had to be put ruthlessly aside to make room for others of greater interest from first to last the long series between charlotte tucker and her own especial sister-friend mrs hamilton takes precedence of all other letters in point of freedom naturalness and simplicity the perfect trust and unshadowed devotion which subsisted between these two form a rare and beautiful picture'"
      ]
     },
     "execution_count": 38,
     "metadata": {},
     "output_type": "execute_result"
    }
   ],
   "source": [
    "cleaned_text"
   ]
  },
  {
   "cell_type": "code",
   "execution_count": 39,
   "metadata": {
    "collapsed": false
   },
   "outputs": [
    {
     "data": {
      "text/plain": [
       "list"
      ]
     },
     "execution_count": 39,
     "metadata": {},
     "output_type": "execute_result"
    }
   ],
   "source": [
    "type([])"
   ]
  },
  {
   "cell_type": "code",
   "execution_count": 40,
   "metadata": {
    "collapsed": false
   },
   "outputs": [
    {
     "data": {
      "text/plain": [
       "dict"
      ]
     },
     "execution_count": 40,
     "metadata": {},
     "output_type": "execute_result"
    }
   ],
   "source": [
    "type({})"
   ]
  },
  {
   "cell_type": "code",
   "execution_count": 41,
   "metadata": {
    "collapsed": false
   },
   "outputs": [
    {
     "data": {
      "text/plain": [
       "set"
      ]
     },
     "execution_count": 41,
     "metadata": {},
     "output_type": "execute_result"
    }
   ],
   "source": [
    "type(set())"
   ]
  },
  {
   "cell_type": "code",
   "execution_count": 43,
   "metadata": {
    "collapsed": false
   },
   "outputs": [
    {
     "data": {
      "text/plain": [
       "['__add__',\n",
       " '__class__',\n",
       " '__contains__',\n",
       " '__delattr__',\n",
       " '__dir__',\n",
       " '__doc__',\n",
       " '__eq__',\n",
       " '__format__',\n",
       " '__ge__',\n",
       " '__getattribute__',\n",
       " '__getitem__',\n",
       " '__getnewargs__',\n",
       " '__gt__',\n",
       " '__hash__',\n",
       " '__init__',\n",
       " '__init_subclass__',\n",
       " '__iter__',\n",
       " '__le__',\n",
       " '__len__',\n",
       " '__lt__',\n",
       " '__mod__',\n",
       " '__mul__',\n",
       " '__ne__',\n",
       " '__new__',\n",
       " '__reduce__',\n",
       " '__reduce_ex__',\n",
       " '__repr__',\n",
       " '__rmod__',\n",
       " '__rmul__',\n",
       " '__setattr__',\n",
       " '__sizeof__',\n",
       " '__str__',\n",
       " '__subclasshook__',\n",
       " 'capitalize',\n",
       " 'casefold',\n",
       " 'center',\n",
       " 'count',\n",
       " 'encode',\n",
       " 'endswith',\n",
       " 'expandtabs',\n",
       " 'find',\n",
       " 'format',\n",
       " 'format_map',\n",
       " 'index',\n",
       " 'isalnum',\n",
       " 'isalpha',\n",
       " 'isdecimal',\n",
       " 'isdigit',\n",
       " 'isidentifier',\n",
       " 'islower',\n",
       " 'isnumeric',\n",
       " 'isprintable',\n",
       " 'isspace',\n",
       " 'istitle',\n",
       " 'isupper',\n",
       " 'join',\n",
       " 'ljust',\n",
       " 'lower',\n",
       " 'lstrip',\n",
       " 'maketrans',\n",
       " 'partition',\n",
       " 'replace',\n",
       " 'rfind',\n",
       " 'rindex',\n",
       " 'rjust',\n",
       " 'rpartition',\n",
       " 'rsplit',\n",
       " 'rstrip',\n",
       " 'split',\n",
       " 'splitlines',\n",
       " 'startswith',\n",
       " 'strip',\n",
       " 'swapcase',\n",
       " 'title',\n",
       " 'translate',\n",
       " 'upper',\n",
       " 'zfill']"
      ]
     },
     "execution_count": 43,
     "metadata": {},
     "output_type": "execute_result"
    }
   ],
   "source": [
    "dir(' ')"
   ]
  },
  {
   "cell_type": "code",
   "execution_count": 42,
   "metadata": {
    "collapsed": false
   },
   "outputs": [
    {
     "data": {
      "text/plain": [
       "{'(a',\n",
       " 'a',\n",
       " 'all',\n",
       " 'and',\n",
       " 'arising',\n",
       " 'as',\n",
       " 'aside',\n",
       " 'be',\n",
       " 'beautiful',\n",
       " 'between',\n",
       " 'biography',\n",
       " 'both',\n",
       " 'but',\n",
       " 'by',\n",
       " 'charlotte',\n",
       " 'contributed',\n",
       " 'correspondence',\n",
       " 'description',\n",
       " 'details',\n",
       " 'devotion',\n",
       " 'difficulty',\n",
       " 'e)',\n",
       " 'early',\n",
       " 'either',\n",
       " 'england',\n",
       " 'especial',\n",
       " 'exists',\n",
       " 'f',\n",
       " 'first',\n",
       " 'for',\n",
       " 'form',\n",
       " 'freedom',\n",
       " 'friends',\n",
       " 'from',\n",
       " 'greater',\n",
       " 'had',\n",
       " 'hamilton',\n",
       " 'hands',\n",
       " 'have',\n",
       " 'he',\n",
       " 'help',\n",
       " 'her',\n",
       " 'hundreds',\n",
       " 'in',\n",
       " 'india',\n",
       " 'interest',\n",
       " 'interesting',\n",
       " 'is',\n",
       " 'l',\n",
       " 'last',\n",
       " 'later',\n",
       " 'less',\n",
       " 'letters',\n",
       " 'life;',\n",
       " 'long',\n",
       " 'make',\n",
       " 'many',\n",
       " 'maria',\n",
       " 'mass',\n",
       " 'materials',\n",
       " 'more',\n",
       " 'mrs',\n",
       " 'my',\n",
       " 'naturalness',\n",
       " 'nephew',\n",
       " 'o',\n",
       " 'of',\n",
       " 'opposite',\n",
       " 'or',\n",
       " 'other',\n",
       " 'others',\n",
       " 'own',\n",
       " 'part',\n",
       " 'paucity',\n",
       " 'perfect',\n",
       " 'picture',\n",
       " 'placed',\n",
       " 'point',\n",
       " 'precedence',\n",
       " 'precisely',\n",
       " 'principal',\n",
       " 'put',\n",
       " 'rare',\n",
       " 'recollections',\n",
       " 'relatives',\n",
       " 'rev',\n",
       " 'room',\n",
       " 'ruthlessly',\n",
       " 'series',\n",
       " 'share',\n",
       " 'simplicity',\n",
       " 'since',\n",
       " 'sister-friend',\n",
       " 'subsisted',\n",
       " 'summer',\n",
       " 'superabundance',\n",
       " 'takes',\n",
       " 'the',\n",
       " 'their',\n",
       " 'themselves',\n",
       " 'then',\n",
       " 'these',\n",
       " 'this',\n",
       " 'to',\n",
       " 'trust',\n",
       " 'tucker',\n",
       " 'two',\n",
       " 'unshadowed',\n",
       " 'w',\n",
       " 'was',\n",
       " 'way',\n",
       " 'which',\n",
       " 'written',\n",
       " 'years'}"
      ]
     },
     "execution_count": 42,
     "metadata": {},
     "output_type": "execute_result"
    }
   ],
   "source": [
    "{word for word in word_list if not word.is}"
   ]
  },
  {
   "cell_type": "code",
   "execution_count": null,
   "metadata": {
    "collapsed": true
   },
   "outputs": [],
   "source": []
  },
  {
   "cell_type": "code",
   "execution_count": null,
   "metadata": {
    "collapsed": false
   },
   "outputs": [],
   "source": []
  },
  {
   "cell_type": "code",
   "execution_count": null,
   "metadata": {
    "collapsed": false
   },
   "outputs": [],
   "source": []
  }
 ],
 "metadata": {
  "kernelspec": {
   "display_name": "Python 3",
   "language": "python",
   "name": "python3"
  },
  "language_info": {
   "codemirror_mode": {
    "name": "ipython",
    "version": 3
   },
   "file_extension": ".py",
   "mimetype": "text/x-python",
   "name": "python",
   "nbconvert_exporter": "python",
   "pygments_lexer": "ipython3",
   "version": "3.6.0"
  }
 },
 "nbformat": 4,
 "nbformat_minor": 2
}
