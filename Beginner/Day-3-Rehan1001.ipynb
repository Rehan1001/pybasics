{
 "cells": [
  {
   "cell_type": "markdown",
   "metadata": {},
   "source": [
    "# DAy 3 #\n",
    "---\n",
    "problem: Determine frequency of words for given paragraph.\n",
    "\n",
    "usee:\n",
    "\n",
    "- dictionary\n",
    "- list\n",
    "- string Function\n",
    "- While loop / for loop\n",
    "- If condition"
   ]
  },
  {
   "cell_type": "code",
   "execution_count": 1,
   "metadata": {
    "collapsed": true
   },
   "outputs": [],
   "source": [
    "paragraph = \"\"\"They commenced their work one beautiful moonlight night. Brownies, you\n",
    "know, work when the darkness has put all the world to sleep. What a time\n",
    "they had getting all the things together. Arriving at the spot, some fell\n",
    "to chopping wood, while others mixed the mortar and rigged up the pulleys\n",
    "by which they were to raise the stuff to the roof. How the hammers rang\n",
    "out as they struck the bright little nails. The grindstone went spinning\n",
    "around so fast it hummed quite a tune, as the carpenter sharpened his\n",
    "tools, for the Brownies had so much to do they must work their very\n",
    "fastest. The plasterer mixed the mortar, the painters made their brushes\n",
    "fly over the house; the masons worked with a will at the chimney, and the\n",
    "paper hanger’s scissors shut with a click as he cut off the paper for the\n",
    "palace walls, which were to be so prettily decorated.\"\"\""
   ]
  },
  {
   "cell_type": "code",
   "execution_count": 3,
   "metadata": {
    "collapsed": true
   },
   "outputs": [],
   "source": [
    "words = paragraph.split()"
   ]
  },
  {
   "cell_type": "code",
   "execution_count": 5,
   "metadata": {
    "collapsed": false
   },
   "outputs": [
    {
     "data": {
      "text/plain": [
       "['They',\n",
       " 'commenced',\n",
       " 'their',\n",
       " 'work',\n",
       " 'one',\n",
       " 'beautiful',\n",
       " 'moonlight',\n",
       " 'night.',\n",
       " 'Brownies,',\n",
       " 'you',\n",
       " 'know,',\n",
       " 'work',\n",
       " 'when',\n",
       " 'the',\n",
       " 'darkness',\n",
       " 'has',\n",
       " 'put',\n",
       " 'all',\n",
       " 'the',\n",
       " 'world',\n",
       " 'to',\n",
       " 'sleep.',\n",
       " 'What',\n",
       " 'a',\n",
       " 'time',\n",
       " 'they',\n",
       " 'had',\n",
       " 'getting',\n",
       " 'all',\n",
       " 'the',\n",
       " 'things',\n",
       " 'together.',\n",
       " 'Arriving',\n",
       " 'at',\n",
       " 'the',\n",
       " 'spot,',\n",
       " 'some',\n",
       " 'fell',\n",
       " 'to',\n",
       " 'chopping',\n",
       " 'wood,',\n",
       " 'while',\n",
       " 'others',\n",
       " 'mixed',\n",
       " 'the',\n",
       " 'mortar',\n",
       " 'and',\n",
       " 'rigged',\n",
       " 'up',\n",
       " 'the',\n",
       " 'pulleys',\n",
       " 'by',\n",
       " 'which',\n",
       " 'they',\n",
       " 'were',\n",
       " 'to',\n",
       " 'raise',\n",
       " 'the',\n",
       " 'stuff',\n",
       " 'to',\n",
       " 'the',\n",
       " 'roof.',\n",
       " 'How',\n",
       " 'the',\n",
       " 'hammers',\n",
       " 'rang',\n",
       " 'out',\n",
       " 'as',\n",
       " 'they',\n",
       " 'struck',\n",
       " 'the',\n",
       " 'bright',\n",
       " 'little',\n",
       " 'nails.',\n",
       " 'The',\n",
       " 'grindstone',\n",
       " 'went',\n",
       " 'spinning',\n",
       " 'around',\n",
       " 'so',\n",
       " 'fast',\n",
       " 'it',\n",
       " 'hummed',\n",
       " 'quite',\n",
       " 'a',\n",
       " 'tune,',\n",
       " 'as',\n",
       " 'the',\n",
       " 'carpenter',\n",
       " 'sharpened',\n",
       " 'his',\n",
       " 'tools,',\n",
       " 'for',\n",
       " 'the',\n",
       " 'Brownies',\n",
       " 'had',\n",
       " 'so',\n",
       " 'much',\n",
       " 'to',\n",
       " 'do',\n",
       " 'they',\n",
       " 'must',\n",
       " 'work',\n",
       " 'their',\n",
       " 'very',\n",
       " 'fastest.',\n",
       " 'The',\n",
       " 'plasterer',\n",
       " 'mixed',\n",
       " 'the',\n",
       " 'mortar,',\n",
       " 'the',\n",
       " 'painters',\n",
       " 'made',\n",
       " 'their',\n",
       " 'brushes',\n",
       " 'fly',\n",
       " 'over',\n",
       " 'the',\n",
       " 'house;',\n",
       " 'the',\n",
       " 'masons',\n",
       " 'worked',\n",
       " 'with',\n",
       " 'a',\n",
       " 'will',\n",
       " 'at',\n",
       " 'the',\n",
       " 'chimney,',\n",
       " 'and',\n",
       " 'the',\n",
       " 'paper',\n",
       " 'hanger’s',\n",
       " 'scissors',\n",
       " 'shut',\n",
       " 'with',\n",
       " 'a',\n",
       " 'click',\n",
       " 'as',\n",
       " 'he',\n",
       " 'cut',\n",
       " 'off',\n",
       " 'the',\n",
       " 'paper',\n",
       " 'for',\n",
       " 'the',\n",
       " 'palace',\n",
       " 'walls,',\n",
       " 'which',\n",
       " 'were',\n",
       " 'to',\n",
       " 'be',\n",
       " 'so',\n",
       " 'prettily',\n",
       " 'decorated.']"
      ]
     },
     "execution_count": 5,
     "metadata": {},
     "output_type": "execute_result"
    }
   ],
   "source": [
    "words"
   ]
  },
  {
   "cell_type": "code",
   "execution_count": 11,
   "metadata": {
    "collapsed": false
   },
   "outputs": [
    {
     "name": "stdout",
     "output_type": "stream",
     "text": [
      "0 They\n",
      "1 commenced\n",
      "2 their\n",
      "3 work\n",
      "4 one\n",
      "5 beautiful\n",
      "6 moonlight\n",
      "7 night.\n",
      "8 Brownies,\n",
      "9 you\n",
      "10 know,\n",
      "11 work\n",
      "12 when\n",
      "13 the\n",
      "14 darkness\n",
      "15 has\n",
      "16 put\n",
      "17 all\n",
      "18 the\n",
      "19 world\n",
      "20 to\n",
      "21 sleep.\n",
      "22 What\n",
      "23 a\n",
      "24 time\n",
      "25 they\n",
      "26 had\n",
      "27 getting\n",
      "28 all\n",
      "29 the\n",
      "30 things\n",
      "31 together.\n",
      "32 Arriving\n",
      "33 at\n",
      "34 the\n",
      "35 spot,\n",
      "36 some\n",
      "37 fell\n",
      "38 to\n",
      "39 chopping\n",
      "40 wood,\n",
      "41 while\n",
      "42 others\n",
      "43 mixed\n",
      "44 the\n",
      "45 mortar\n",
      "46 and\n",
      "47 rigged\n",
      "48 up\n",
      "49 the\n",
      "50 pulleys\n",
      "51 by\n",
      "52 which\n",
      "53 they\n",
      "54 were\n",
      "55 to\n",
      "56 raise\n",
      "57 the\n",
      "58 stuff\n",
      "59 to\n",
      "60 the\n",
      "61 roof.\n",
      "62 How\n",
      "63 the\n",
      "64 hammers\n",
      "65 rang\n",
      "66 out\n",
      "67 as\n",
      "68 they\n",
      "69 struck\n",
      "70 the\n",
      "71 bright\n",
      "72 little\n",
      "73 nails.\n",
      "74 The\n",
      "75 grindstone\n",
      "76 went\n",
      "77 spinning\n",
      "78 around\n",
      "79 so\n",
      "80 fast\n",
      "81 it\n",
      "82 hummed\n",
      "83 quite\n",
      "84 a\n",
      "85 tune,\n",
      "86 as\n",
      "87 the\n",
      "88 carpenter\n",
      "89 sharpened\n",
      "90 his\n",
      "91 tools,\n",
      "92 for\n",
      "93 the\n",
      "94 Brownies\n",
      "95 had\n",
      "96 so\n",
      "97 much\n",
      "98 to\n",
      "99 do\n",
      "100 they\n",
      "101 must\n",
      "102 work\n",
      "103 their\n",
      "104 very\n",
      "105 fastest.\n",
      "106 The\n",
      "107 plasterer\n",
      "108 mixed\n",
      "109 the\n",
      "110 mortar,\n",
      "111 the\n",
      "112 painters\n",
      "113 made\n",
      "114 their\n",
      "115 brushes\n",
      "116 fly\n",
      "117 over\n",
      "118 the\n",
      "119 house;\n",
      "120 the\n",
      "121 masons\n",
      "122 worked\n",
      "123 with\n",
      "124 a\n",
      "125 will\n",
      "126 at\n",
      "127 the\n",
      "128 chimney,\n",
      "129 and\n",
      "130 the\n",
      "131 paper\n",
      "132 hanger’s\n",
      "133 scissors\n",
      "134 shut\n",
      "135 with\n",
      "136 a\n",
      "137 click\n",
      "138 as\n",
      "139 he\n",
      "140 cut\n",
      "141 off\n",
      "142 the\n",
      "143 paper\n",
      "144 for\n",
      "145 the\n",
      "146 palace\n",
      "147 walls,\n",
      "148 which\n",
      "149 were\n",
      "150 to\n",
      "151 be\n",
      "152 so\n",
      "153 prettily\n",
      "154 decorated.\n",
      "number of words 155\n"
     ]
    }
   ],
   "source": [
    "index = 0\n",
    "while index  < len(words):\n",
    "    print(index, words[index])\n",
    "    index += 1\n",
    "print('number of words', len(words))\n",
    "    "
   ]
  },
  {
   "cell_type": "code",
   "execution_count": 12,
   "metadata": {
    "collapsed": false
   },
   "outputs": [
    {
     "data": {
      "text/plain": [
       "155"
      ]
     },
     "execution_count": 12,
     "metadata": {},
     "output_type": "execute_result"
    }
   ],
   "source": [
    "len(words)"
   ]
  },
  {
   "cell_type": "code",
   "execution_count": 15,
   "metadata": {
    "collapsed": false
   },
   "outputs": [
    {
     "name": "stdout",
     "output_type": "stream",
     "text": [
      "{'they': 0, 'commenced': 0, 'their': 0, 'work': 0, 'one': 0, 'beautiful': 0, 'moonlight': 0, 'night.': 0, 'brownies,': 0, 'you': 0, 'know,': 0, 'when': 0, 'the': 0, 'darkness': 0, 'has': 0, 'put': 0, 'all': 0, 'world': 0, 'to': 0, 'sleep.': 0, 'what': 0, 'a': 0, 'time': 0, 'had': 0, 'getting': 0, 'things': 0, 'together.': 0, 'arriving': 0, 'at': 0, 'spot,': 0, 'some': 0, 'fell': 0, 'chopping': 0, 'wood,': 0, 'while': 0, 'others': 0, 'mixed': 0, 'mortar': 0, 'and': 0, 'rigged': 0, 'up': 0, 'pulleys': 0, 'by': 0, 'which': 0, 'were': 0, 'raise': 0, 'stuff': 0, 'roof.': 0, 'how': 0, 'hammers': 0, 'rang': 0, 'out': 0, 'as': 0, 'struck': 0, 'bright': 0, 'little': 0, 'nails.': 0, 'grindstone': 0, 'went': 0, 'spinning': 0, 'around': 0, 'so': 0, 'fast': 0, 'it': 0, 'hummed': 0, 'quite': 0, 'tune,': 0, 'carpenter': 0, 'sharpened': 0, 'his': 0, 'tools,': 0, 'for': 0, 'brownies': 0, 'much': 0, 'do': 0, 'must': 0, 'very': 0, 'fastest.': 0, 'plasterer': 0, 'mortar,': 0, 'painters': 0, 'made': 0, 'brushes': 0, 'fly': 0, 'over': 0, 'house;': 0, 'masons': 0, 'worked': 0, 'with': 0, 'will': 0, 'chimney,': 0, 'paper': 0, 'hanger’s': 0, 'scissors': 0, 'shut': 0, 'click': 0, 'he': 0, 'cut': 0, 'off': 0, 'palace': 0, 'walls,': 0, 'be': 0, 'prettily': 0, 'decorated.': 0}\n"
     ]
    }
   ],
   "source": [
    "freq = {}\n",
    "index = 0\n",
    "while index < len(words):\n",
    "    freq[words[index].lower()] = 0\n",
    "    index += 1 \n",
    "print (freq)\n"
   ]
  },
  {
   "cell_type": "code",
   "execution_count": 16,
   "metadata": {
    "collapsed": false
   },
   "outputs": [
    {
     "data": {
      "text/plain": [
       "{'harry': 67, 99: 32}"
      ]
     },
     "execution_count": 16,
     "metadata": {},
     "output_type": "execute_result"
    }
   ],
   "source": [
    "freq = {}\n",
    "freq['harry'] = 67\n",
    "freq[99] = 32\n",
    "freq"
   ]
  },
  {
   "cell_type": "code",
   "execution_count": 17,
   "metadata": {
    "collapsed": true
   },
   "outputs": [],
   "source": [
    "names = ['harry' , 'ron' , 'rehan']"
   ]
  },
  {
   "cell_type": "code",
   "execution_count": 19,
   "metadata": {
    "collapsed": true
   },
   "outputs": [],
   "source": [
    "names[0] = 'loojah'"
   ]
  },
  {
   "cell_type": "code",
   "execution_count": 20,
   "metadata": {
    "collapsed": false
   },
   "outputs": [
    {
     "data": {
      "text/plain": [
       "['loojah', 'ron', 'rehan']"
      ]
     },
     "execution_count": 20,
     "metadata": {},
     "output_type": "execute_result"
    }
   ],
   "source": [
    "names\n"
   ]
  },
  {
   "cell_type": "markdown",
   "metadata": {},
   "source": [
    "- list are muitable"
   ]
  },
  {
   "cell_type": "markdown",
   "metadata": {},
   "source": []
  },
  {
   "cell_type": "code",
   "execution_count": 21,
   "metadata": {
    "collapsed": true
   },
   "outputs": [],
   "source": [
    "name = 'loojah'\n"
   ]
  },
  {
   "cell_type": "markdown",
   "metadata": {},
   "source": [
    "name [0]\n"
   ]
  },
  {
   "cell_type": "markdown",
   "metadata": {},
   "source": [
    "- list are muitable\n",
    "- string r immuitable"
   ]
  },
  {
   "cell_type": "code",
   "execution_count": 26,
   "metadata": {
    "collapsed": false,
    "scrolled": true
   },
   "outputs": [
    {
     "name": "stdout",
     "output_type": "stream",
     "text": [
      "{'they': 0, 'commenced': 0, 'their': 0, 'work': 0, 'one': 0, 'beautiful': 0, 'moonlight': 0, 'night': 0, 'brownies': 0, 'you': 0, 'know': 0, 'when': 0, 'the': 0, 'darkness': 0, 'has': 0, 'put': 0, 'all': 0, 'world': 0, 'to': 0, 'sleep': 0, 'what': 0, 'a': 0, 'time': 0, 'had': 0, 'getting': 0, 'things': 0, 'together': 0, 'arriving': 0, 'at': 0, 'spot': 0, 'some': 0, 'fell': 0, 'chopping': 0, 'wood': 0, 'while': 0, 'others': 0, 'mixed': 0, 'mortar': 0, 'and': 0, 'rigged': 0, 'up': 0, 'pulleys': 0, 'by': 0, 'which': 0, 'were': 0, 'raise': 0, 'stuff': 0, 'roof': 0, 'how': 0, 'hammers': 0, 'rang': 0, 'out': 0, 'as': 0, 'struck': 0, 'bright': 0, 'little': 0, 'nails': 0, 'grindstone': 0, 'went': 0, 'spinning': 0, 'around': 0, 'so': 0, 'fast': 0, 'it': 0, 'hummed': 0, 'quite': 0, 'tune': 0, 'carpenter': 0, 'sharpened': 0, 'his': 0, 'tools': 0, 'for': 0, 'much': 0, 'do': 0, 'must': 0, 'very': 0, 'fastest': 0, 'plasterer': 0, 'painters': 0, 'made': 0, 'brushes': 0, 'fly': 0, 'over': 0, 'house;': 0, 'masons': 0, 'worked': 0, 'with': 0, 'will': 0, 'chimney': 0, 'paper': 0, 'hanger’s': 0, 'scissors': 0, 'shut': 0, 'click': 0, 'he': 0, 'cut': 0, 'off': 0, 'palace': 0, 'walls': 0, 'be': 0, 'prettily': 0, 'decorated': 0}\n"
     ]
    }
   ],
   "source": [
    "freq = {}\n",
    "index = 0\n",
    "while index < len(words):\n",
    "    word = words[index].strip('.').strip(',').lower()\n",
    "    # word = words[index]\n",
    "    # word = word.strip('.')\n",
    "    # word = word.strip(',')\n",
    "    # word = word.lower()\n",
    "    freq[word] = 0\n",
    "    index += 1 \n",
    "print (freq)"
   ]
  },
  {
   "cell_type": "code",
   "execution_count": 35,
   "metadata": {
    "collapsed": false
   },
   "outputs": [
    {
     "name": "stdout",
     "output_type": "stream",
     "text": [
      "{'they': 5, 'commenced': 1, 'their': 3, 'work': 3, 'one': 1, 'beautiful': 1, 'moonlight': 1, 'night': 1, 'brownies': 2, 'you': 1, 'know': 1, 'when': 1, 'the': 22, 'darkness': 1, 'has': 1, 'put': 1, 'all': 2, 'world': 1, 'to': 6, 'sleep': 1, 'what': 1, 'a': 4, 'time': 1, 'had': 2, 'getting': 1, 'things': 1, 'together': 1, 'arriving': 1, 'at': 2, 'spot': 1, 'some': 1, 'fell': 1, 'chopping': 1, 'wood': 1, 'while': 1, 'others': 1, 'mixed': 2, 'mortar': 2, 'and': 2, 'rigged': 1, 'up': 1, 'pulleys': 1, 'by': 1, 'which': 2, 'were': 2, 'raise': 1, 'stuff': 1, 'roof': 1, 'how': 1, 'hammers': 1, 'rang': 1, 'out': 1, 'as': 3, 'struck': 1, 'bright': 1, 'little': 1, 'nails': 1, 'grindstone': 1, 'went': 1, 'spinning': 1, 'around': 1, 'so': 3, 'fast': 1, 'it': 1, 'hummed': 1, 'quite': 1, 'tune': 1, 'carpenter': 1, 'sharpened': 1, 'his': 1, 'tools': 1, 'for': 2, 'much': 1, 'do': 1, 'must': 1, 'very': 1, 'fastest': 1, 'plasterer': 1, 'painters': 1, 'made': 1, 'brushes': 1, 'fly': 1, 'over': 1, 'house;': 1, 'masons': 1, 'worked': 1, 'with': 2, 'will': 1, 'chimney': 1, 'paper': 2, 'hanger’s': 1, 'scissors': 1, 'shut': 1, 'click': 1, 'he': 1, 'cut': 1, 'off': 1, 'palace': 1, 'walls': 1, 'be': 1, 'prettily': 1, 'decorated': 1}\n"
     ]
    }
   ],
   "source": [
    "freq = {}\n",
    "index = 0\n",
    "while index < len(words) :\n",
    "    word = words[index].strip('.').strip(',').lower()\n",
    "    if word in freq:\n",
    "        freq[word] += 1\n",
    "    else:\n",
    "        freq[word] = 1 \n",
    "    index += 1 \n",
    "print(freq)\n",
    "        "
   ]
  },
  {
   "cell_type": "code",
   "execution_count": 30,
   "metadata": {
    "collapsed": false
   },
   "outputs": [],
   "source": [
    "nfreq = {'A': 6 ,'B': 2}"
   ]
  },
  {
   "cell_type": "code",
   "execution_count": 31,
   "metadata": {
    "collapsed": false
   },
   "outputs": [
    {
     "data": {
      "text/plain": [
       "True"
      ]
     },
     "execution_count": 31,
     "metadata": {},
     "output_type": "execute_result"
    }
   ],
   "source": [
    "'A' in nfreq"
   ]
  },
  {
   "cell_type": "code",
   "execution_count": 32,
   "metadata": {
    "collapsed": false
   },
   "outputs": [
    {
     "data": {
      "text/plain": [
       "False"
      ]
     },
     "execution_count": 32,
     "metadata": {},
     "output_type": "execute_result"
    }
   ],
   "source": [
    "'C' in nfreq"
   ]
  },
  {
   "cell_type": "code",
   "execution_count": 39,
   "metadata": {
    "collapsed": false
   },
   "outputs": [
    {
     "name": "stdout",
     "output_type": "stream",
     "text": [
      "paragraph has 5 \"they\"\n",
      "paragraph has 1 \"commenced\"\n",
      "paragraph has 3 \"their\"\n",
      "paragraph has 3 \"work\"\n",
      "paragraph has 1 \"one\"\n",
      "paragraph has 1 \"beautiful\"\n",
      "paragraph has 1 \"moonlight\"\n",
      "paragraph has 1 \"night\"\n",
      "paragraph has 2 \"brownies\"\n",
      "paragraph has 1 \"you\"\n",
      "paragraph has 1 \"know\"\n",
      "paragraph has 1 \"when\"\n",
      "paragraph has 22 \"the\"\n",
      "paragraph has 1 \"darkness\"\n",
      "paragraph has 1 \"has\"\n",
      "paragraph has 1 \"put\"\n",
      "paragraph has 2 \"all\"\n",
      "paragraph has 1 \"world\"\n",
      "paragraph has 6 \"to\"\n",
      "paragraph has 1 \"sleep\"\n",
      "paragraph has 1 \"what\"\n",
      "paragraph has 4 \"a\"\n",
      "paragraph has 1 \"time\"\n",
      "paragraph has 2 \"had\"\n",
      "paragraph has 1 \"getting\"\n",
      "paragraph has 1 \"things\"\n",
      "paragraph has 1 \"together\"\n",
      "paragraph has 1 \"arriving\"\n",
      "paragraph has 2 \"at\"\n",
      "paragraph has 1 \"spot\"\n",
      "paragraph has 1 \"some\"\n",
      "paragraph has 1 \"fell\"\n",
      "paragraph has 1 \"chopping\"\n",
      "paragraph has 1 \"wood\"\n",
      "paragraph has 1 \"while\"\n",
      "paragraph has 1 \"others\"\n",
      "paragraph has 2 \"mixed\"\n",
      "paragraph has 2 \"mortar\"\n",
      "paragraph has 2 \"and\"\n",
      "paragraph has 1 \"rigged\"\n",
      "paragraph has 1 \"up\"\n",
      "paragraph has 1 \"pulleys\"\n",
      "paragraph has 1 \"by\"\n",
      "paragraph has 2 \"which\"\n",
      "paragraph has 2 \"were\"\n",
      "paragraph has 1 \"raise\"\n",
      "paragraph has 1 \"stuff\"\n",
      "paragraph has 1 \"roof\"\n",
      "paragraph has 1 \"how\"\n",
      "paragraph has 1 \"hammers\"\n",
      "paragraph has 1 \"rang\"\n",
      "paragraph has 1 \"out\"\n",
      "paragraph has 3 \"as\"\n",
      "paragraph has 1 \"struck\"\n",
      "paragraph has 1 \"bright\"\n",
      "paragraph has 1 \"little\"\n",
      "paragraph has 1 \"nails\"\n",
      "paragraph has 1 \"grindstone\"\n",
      "paragraph has 1 \"went\"\n",
      "paragraph has 1 \"spinning\"\n",
      "paragraph has 1 \"around\"\n",
      "paragraph has 3 \"so\"\n",
      "paragraph has 1 \"fast\"\n",
      "paragraph has 1 \"it\"\n",
      "paragraph has 1 \"hummed\"\n",
      "paragraph has 1 \"quite\"\n",
      "paragraph has 1 \"tune\"\n",
      "paragraph has 1 \"carpenter\"\n",
      "paragraph has 1 \"sharpened\"\n",
      "paragraph has 1 \"his\"\n",
      "paragraph has 1 \"tools\"\n",
      "paragraph has 2 \"for\"\n",
      "paragraph has 1 \"much\"\n",
      "paragraph has 1 \"do\"\n",
      "paragraph has 1 \"must\"\n",
      "paragraph has 1 \"very\"\n",
      "paragraph has 1 \"fastest\"\n",
      "paragraph has 1 \"plasterer\"\n",
      "paragraph has 1 \"painters\"\n",
      "paragraph has 1 \"made\"\n",
      "paragraph has 1 \"brushes\"\n",
      "paragraph has 1 \"fly\"\n",
      "paragraph has 1 \"over\"\n",
      "paragraph has 1 \"house;\"\n",
      "paragraph has 1 \"masons\"\n",
      "paragraph has 1 \"worked\"\n",
      "paragraph has 2 \"with\"\n",
      "paragraph has 1 \"will\"\n",
      "paragraph has 1 \"chimney\"\n",
      "paragraph has 2 \"paper\"\n",
      "paragraph has 1 \"hanger’s\"\n",
      "paragraph has 1 \"scissors\"\n",
      "paragraph has 1 \"shut\"\n",
      "paragraph has 1 \"click\"\n",
      "paragraph has 1 \"he\"\n",
      "paragraph has 1 \"cut\"\n",
      "paragraph has 1 \"off\"\n",
      "paragraph has 1 \"palace\"\n",
      "paragraph has 1 \"walls\"\n",
      "paragraph has 1 \"be\"\n",
      "paragraph has 1 \"prettily\"\n",
      "paragraph has 1 \"decorated\"\n"
     ]
    }
   ],
   "source": [
    "for item in freq:\n",
    "    print('paragraph has {} \"{}\"'.format(freq[item], item))"
   ]
  },
  {
   "cell_type": "code",
   "execution_count": null,
   "metadata": {
    "collapsed": true
   },
   "outputs": [],
   "source": []
  },
  {
   "cell_type": "code",
   "execution_count": null,
   "metadata": {
    "collapsed": true
   },
   "outputs": [],
   "source": []
  }
 ],
 "metadata": {
  "kernelspec": {
   "display_name": "Python 3",
   "language": "python",
   "name": "python3"
  },
  "language_info": {
   "codemirror_mode": {
    "name": "ipython",
    "version": 3
   },
   "file_extension": ".py",
   "mimetype": "text/x-python",
   "name": "python",
   "nbconvert_exporter": "python",
   "pygments_lexer": "ipython3",
   "version": "3.6.0"
  }
 },
 "nbformat": 4,
 "nbformat_minor": 2
}
